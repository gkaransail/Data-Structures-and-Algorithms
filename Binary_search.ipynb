{
 "cells": [
  {
   "cell_type": "markdown",
   "metadata": {},
   "source": [
    "#### Binary Search Algorithm:\n",
    "##### The binary search algorithm works by repeatedly dividing the search range in half, and the list indices must be adjusted accordingly to ensure you're not exceeding the bounds of the list."
   ]
  },
  {
   "cell_type": "code",
   "execution_count": 1,
   "metadata": {},
   "outputs": [],
   "source": [
    "tests = [{'input': {'cards': [13, 11, 10, 7, 4, 3, 1, 0], 'query': 7}, 'output': 3},\n",
    " {'input': {'cards': [13, 11, 10, 7, 4, 3, 1, 0], 'query': 1}, 'output': 6},\n",
    " {'input': {'cards': [4, 2, 1, -1], 'query': 4}, 'output': 0},\n",
    " {'input': {'cards': [3, -1, -9, -127], 'query': -127}, 'output': 3},\n",
    " {'input': {'cards': [6], 'query': 6}, 'output': 0},\n",
    " {'input': {'cards': [9, 7, 5, 2, -9], 'query': 4}, 'output': -1},\n",
    " {'input': {'cards': [], 'query': 7}, 'output': -1},\n",
    " {'input': {'cards': [8, 8, 6, 6, 6, 6, 6, 3, 2, 2, 2, 0, 0, 0], 'query': 3},\n",
    "  'output': 7},\n",
    " {'input': {'cards': [8, 8, 6, 6, 6, 6, 6, 6, 3, 2, 2, 2, 0, 0, 0],\n",
    "   'query': 6},\n",
    "  'output': 2}]"
   ]
  },
  {
   "cell_type": "code",
   "execution_count": 2,
   "metadata": {},
   "outputs": [],
   "source": [
    "\n",
    "def locate_cards(cards,query):\n",
    "    lo, hi = 0, len(cards) -1 \n",
    "    \n",
    "    while lo <= hi:\n",
    "        mid = (lo + hi) // 2\n",
    "        mid_number = cards[mid]\n",
    "        \n",
    "        print(\"lo:\",lo,\"hi:\",hi,\"mid:\",mid,\"mid_number:\",mid_number)\n",
    "        \n",
    "        if mid_number == query:\n",
    "            return mid\n",
    "        elif mid_number < query:\n",
    "            hi = mid - 1\n",
    "        elif mid_number > query:\n",
    "            lo = mid + 1\n",
    "    \n",
    "    return - 1"
   ]
  },
  {
   "cell_type": "code",
   "execution_count": 6,
   "metadata": {},
   "outputs": [
    {
     "name": "stdout",
     "output_type": "stream",
     "text": [
      "lo: 0 hi: 7 mid: 3 mid_number: 7\n",
      "Input: {'cards': [13, 11, 10, 7, 4, 3, 1, 0], 'query': 7}, Expected Output: 3, Function Output: 3\n",
      "lo: 0 hi: 7 mid: 3 mid_number: 7\n",
      "lo: 4 hi: 7 mid: 5 mid_number: 3\n",
      "lo: 6 hi: 7 mid: 6 mid_number: 1\n",
      "Input: {'cards': [13, 11, 10, 7, 4, 3, 1, 0], 'query': 1}, Expected Output: 6, Function Output: 6\n",
      "lo: 0 hi: 3 mid: 1 mid_number: 2\n",
      "lo: 0 hi: 0 mid: 0 mid_number: 4\n",
      "Input: {'cards': [4, 2, 1, -1], 'query': 4}, Expected Output: 0, Function Output: 0\n",
      "lo: 0 hi: 3 mid: 1 mid_number: -1\n",
      "lo: 2 hi: 3 mid: 2 mid_number: -9\n",
      "lo: 3 hi: 3 mid: 3 mid_number: -127\n",
      "Input: {'cards': [3, -1, -9, -127], 'query': -127}, Expected Output: 3, Function Output: 3\n",
      "lo: 0 hi: 0 mid: 0 mid_number: 6\n",
      "Input: {'cards': [6], 'query': 6}, Expected Output: 0, Function Output: 0\n",
      "lo: 0 hi: 4 mid: 2 mid_number: 5\n",
      "lo: 3 hi: 4 mid: 3 mid_number: 2\n",
      "Input: {'cards': [9, 7, 5, 2, -9], 'query': 4}, Expected Output: -1, Function Output: -1\n",
      "Input: {'cards': [], 'query': 7}, Expected Output: -1, Function Output: -1\n",
      "lo: 0 hi: 13 mid: 6 mid_number: 6\n",
      "lo: 7 hi: 13 mid: 10 mid_number: 2\n",
      "lo: 7 hi: 9 mid: 8 mid_number: 2\n",
      "lo: 7 hi: 7 mid: 7 mid_number: 3\n",
      "Input: {'cards': [8, 8, 6, 6, 6, 6, 6, 3, 2, 2, 2, 0, 0, 0], 'query': 3}, Expected Output: 7, Function Output: 7\n",
      "lo: 0 hi: 14 mid: 7 mid_number: 6\n",
      "Input: {'cards': [8, 8, 6, 6, 6, 6, 6, 6, 3, 2, 2, 2, 0, 0, 0], 'query': 6}, Expected Output: 2, Function Output: 7\n"
     ]
    }
   ],
   "source": [
    "for test in tests:\n",
    "    input_data = test['input']\n",
    "    expected_output = test['output']\n",
    "    \n",
    "    # Call the locate_cards function with the input data\n",
    "    result = locate_cards(input_data['cards'], input_data['query'])\n",
    "    \n",
    "    # Print the result and check if it matches the expected output\n",
    "    print(f\"Input: {input_data}, Expected Output: {expected_output}, Function Output: {result}\")\n",
    "    \n"
   ]
  },
  {
   "cell_type": "code",
   "execution_count": 11,
   "metadata": {},
   "outputs": [],
   "source": [
    "test = [8, 8, 6, 6, 6, 6, 6, 6, 3, 2, 2, 2, 0, 0, 0]\n",
    "query = 6"
   ]
  },
  {
   "cell_type": "code",
   "execution_count": 12,
   "metadata": {},
   "outputs": [],
   "source": [
    "def test_location(cards, query, mid):\n",
    "    mid_number = cards[mid]\n",
    "    print(\"mid:\", mid, \", mid_number:\", mid_number)\n",
    "    if mid_number == query:\n",
    "        if mid-1 >= 0 and cards[mid-1] == query:\n",
    "            return 'left'\n",
    "        else:\n",
    "            return 'found'\n",
    "    elif mid_number < query:\n",
    "        return 'left'\n",
    "    else:\n",
    "        return 'right'\n",
    "\n",
    "def locate_card(cards, query):\n",
    "    lo, hi = 0, len(cards) - 1\n",
    "    \n",
    "    while lo <= hi:\n",
    "        print(\"lo:\", lo, \", hi:\", hi)\n",
    "        mid = (lo + hi) // 2\n",
    "        result = test_location(cards, query, mid)\n",
    "        \n",
    "        if result == 'found':\n",
    "            return mid\n",
    "        elif result == 'left':\n",
    "            hi = mid - 1\n",
    "        elif result == 'right':\n",
    "            lo = mid + 1\n",
    "    return -1\n",
    "\n",
    "\n"
   ]
  },
  {
   "cell_type": "code",
   "execution_count": 13,
   "metadata": {},
   "outputs": [
    {
     "name": "stdout",
     "output_type": "stream",
     "text": [
      "lo: 0 , hi: 14\n",
      "mid: 7 , mid_number: 6\n",
      "lo: 0 , hi: 6\n",
      "mid: 3 , mid_number: 6\n",
      "lo: 0 , hi: 2\n",
      "mid: 1 , mid_number: 8\n",
      "lo: 2 , hi: 2\n",
      "mid: 2 , mid_number: 6\n",
      "Query: 6, Found at index: 2\n"
     ]
    }
   ],
   "source": [
    "result = locate_card(test, query)\n",
    "print(f\"Query: {query}, Found at index: {result}\")"
   ]
  },
  {
   "cell_type": "markdown",
   "metadata": {},
   "source": []
  }
 ],
 "metadata": {
  "kernelspec": {
   "display_name": ".venv",
   "language": "python",
   "name": "python3"
  },
  "language_info": {
   "codemirror_mode": {
    "name": "ipython",
    "version": 3
   },
   "file_extension": ".py",
   "mimetype": "text/x-python",
   "name": "python",
   "nbconvert_exporter": "python",
   "pygments_lexer": "ipython3",
   "version": "3.11.4"
  }
 },
 "nbformat": 4,
 "nbformat_minor": 2
}
